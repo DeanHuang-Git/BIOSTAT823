{
 "cells": [
  {
   "cell_type": "markdown",
   "id": "sealed-journey",
   "metadata": {},
   "source": [
    "### Assignment 2"
   ]
  },
  {
   "cell_type": "markdown",
   "id": "unauthorized-chance",
   "metadata": {},
   "source": [
    "#### Write a function to generate an arbitrary large expansion of a mathematical expression like π. Hint: You can use the standard library decimal or the 3rd party library sympy to do this"
   ]
  },
  {
   "cell_type": "code",
   "execution_count": 44,
   "id": "fifty-tender",
   "metadata": {},
   "outputs": [],
   "source": [
    "from math import pi\n",
    "from sympy import *\n",
    "from mpmath import mp\n",
    "\n",
    "def pi_expansion(digits,num):\n",
    "    \"\"\"Generate the expansion of a number or mathematical expression\n",
    "    \n",
    "    Inputs\n",
    "    ------\n",
    "    digits: int\n",
    "        a number that signifies digit place\n",
    "    num: int, float, mathematical expression\n",
    "        input number or mathematical expression\n",
    "    \n",
    "    Output\n",
    "    ------\n",
    "    sympy.Float\n",
    "        expansion of the number\n",
    "    \"\"\"\n",
    "    # Set the number of digit place\n",
    "    mp.dps = digits\n",
    "    # Return the expansion of the number\n",
    "    return Float(num,digits)"
   ]
  },
  {
   "cell_type": "markdown",
   "id": "considered-radical",
   "metadata": {},
   "source": [
    "#### Write a function to check if a number is prime. "
   ]
  },
  {
   "cell_type": "code",
   "execution_count": 64,
   "id": "touched-insertion",
   "metadata": {},
   "outputs": [],
   "source": [
    "def prime(num):\n",
    "    \"\"\"Check whether a number is prime numer\n",
    "    \n",
    "    Inputs\n",
    "    ------\n",
    "    num: int\n",
    "        input number\n",
    "\n",
    "    Output\n",
    "    ------\n",
    "    True or False\n",
    "        If the number is prime, it will output True.\n",
    "        If the number is not prime, it will output False.\n",
    "    \"\"\"\n",
    "    if num > 1:\n",
    "        # Loop through all the values between 2 and square root of the number \n",
    "        for i in range(2, int(num ** 0.5) + 1):\n",
    "            # Check if the number is divisible (if it is divisible then it is not a prime number)\n",
    "            if (num % i) == 0:\n",
    "                return False\n",
    "        else:\n",
    "            # If the number is not divisble at all, the number is a prime number\n",
    "            return True\n",
    "    return False"
   ]
  },
  {
   "cell_type": "markdown",
   "id": "outstanding-logic",
   "metadata": {},
   "source": [
    "#### Write a function to generate sliding windows of a specified width from a long iterable (e.g. a string representation of a number)"
   ]
  },
  {
   "cell_type": "code",
   "execution_count": 39,
   "id": "determined-fetish",
   "metadata": {},
   "outputs": [],
   "source": [
    "from itertools import islice\n",
    "def window(it, n):\n",
    "    \"\"\" Generate sliding window of a specified width from a long iterable\n",
    "    \n",
    "    Inputs\n",
    "    ------\n",
    "    it: str\n",
    "        a string of number to be iterated\n",
    "    n: int\n",
    "        width of the sliding window\n",
    "    \n",
    "    Output\n",
    "    ------\n",
    "    tuple\n",
    "        Output sliding window based on the width specified starting from the index 0th position of the string\n",
    "    \"\"\"\n",
    "    # Convert input to an object which can be iterate one element at a time\n",
    "    iter_object = iter(it)\n",
    "    # The first result is equal to the first 'n' digits of the long iterable\n",
    "    result = tuple(islice(iter_object, n))\n",
    "    # Output the first result\n",
    "    if len(result) == n:\n",
    "        yield result\n",
    "    # Loop through all the elements after the first 'n' digits\n",
    "    for elem in iter_object:\n",
    "        # Slide to the right and update the window result\n",
    "        result = result[1:] + (elem,)\n",
    "        yield result"
   ]
  },
  {
   "cell_type": "markdown",
   "id": "composite-deputy",
   "metadata": {},
   "source": [
    "### Find the first 'width' digit prime in the decimal expansion of 'num'"
   ]
  },
  {
   "cell_type": "code",
   "execution_count": 59,
   "id": "dense-roberts",
   "metadata": {},
   "outputs": [],
   "source": [
    "def num_theory(digits, width, num):\n",
    "    \"\"\" Find the first 'width' digit prime in the decimal expansion of 'num'\n",
    "    \n",
    "    Inputs\n",
    "    ------\n",
    "    digits: int\n",
    "        number of digit places for expansion\n",
    "    width: int\n",
    "        represent the first 'width' digits\n",
    "    num: int or float or mathematical expression\n",
    "        represent the number to be expanded\n",
    "    \n",
    "    Output\n",
    "    ------\n",
    "    int\n",
    "        the first prime number\n",
    "    \"\"\"\n",
    "    # Only keep the digits to the right of the decimal point\n",
    "    n = str(pi_expansion(digits, num)).split('.')[-1]\n",
    "    # Loop through all the possible windows\n",
    "    for i in window(n, width):\n",
    "        # Check if the window is a prime number\n",
    "        if prime(int(''.join(i))):\n",
    "            # Return the first prime number\n",
    "            return int(''.join(i))\n",
    "    return 'No Prime'"
   ]
  },
  {
   "cell_type": "code",
   "execution_count": 67,
   "id": "expected-ticket",
   "metadata": {},
   "outputs": [
    {
     "data": {
      "text/plain": [
       "8649375157"
      ]
     },
     "execution_count": 67,
     "metadata": {},
     "output_type": "execute_result"
    }
   ],
   "source": [
    "num_theory(100, 10, 17*mp.pi)"
   ]
  }
 ],
 "metadata": {
  "kernelspec": {
   "display_name": "Python 3",
   "language": "python",
   "name": "python3"
  },
  "language_info": {
   "codemirror_mode": {
    "name": "ipython",
    "version": 3
   },
   "file_extension": ".py",
   "mimetype": "text/x-python",
   "name": "python",
   "nbconvert_exporter": "python",
   "pygments_lexer": "ipython3",
   "version": "3.8.6"
  }
 },
 "nbformat": 4,
 "nbformat_minor": 5
}
