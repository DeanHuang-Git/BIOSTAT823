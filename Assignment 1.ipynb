{
 "cells": [
  {
   "cell_type": "markdown",
   "metadata": {},
   "source": [
    "### Problem 6: Sum Square Difference (Solved by 496,345)"
   ]
  },
  {
   "cell_type": "code",
   "execution_count": 281,
   "metadata": {
    "scrolled": true
   },
   "outputs": [
    {
     "data": {
      "text/plain": [
       "25164150"
      ]
     },
     "execution_count": 281,
     "metadata": {},
     "output_type": "execute_result"
    }
   ],
   "source": [
    "import numpy as np\n",
    "def square_diff(n):\n",
    "    \"\"\"A function that has the # of natural numbers as input and return the sum square difference.\"\"\"\n",
    "    # Create a numpy array containing sequence of natural numbers\n",
    "    num=np.array(range(1,n+1,1))\n",
    "    # Calculate the sum of the squared 1D numpy array \n",
    "    sum_square=sum(num**2)\n",
    "    # Calculate the sume of 1D numpy array then squared the value\n",
    "    squared_sum=sum(num)**2\n",
    "    # Return the sum square difference\n",
    "    return squared_sum-sum_square\n",
    "square_diff(100)"
   ]
  },
  {
   "cell_type": "markdown",
   "metadata": {},
   "source": [
    "### Problem 35: Circular Primes (Solved by 85,370)"
   ]
  },
  {
   "cell_type": "code",
   "execution_count": 279,
   "metadata": {},
   "outputs": [],
   "source": [
    "def rotation(n):\n",
    "    \"\"\"A function that produce the unique combinations of the different rotations of the number.\"\"\"\n",
    "    rotations = set()\n",
    "    # Add the input number into the rotation set\n",
    "    rotations.add(n)\n",
    "    # Loop through each digit of the number\n",
    "    for i in range( len( str(n) ) ):\n",
    "        # Formulate the rotation combination of each digit\n",
    "        number = int( str(n)[i:] + str(n)[:i] )\n",
    "        # Add the new formulated number into the set\n",
    "        rotations.add(number)\n",
    "    # Return the final rotation set\n",
    "    return rotations\n",
    "def circular_prime(n):\n",
    "    \"\"\"A function that determines if a number is circular prime.\"\"\"\n",
    "    # Set the initial total number of prime numbers as 0\n",
    "    prime=0\n",
    "    # Loop through each rotation combinations of the number\n",
    "    for r in rotation(n):\n",
    "        # A flag for determining if the number is prime (False if it is prime)\n",
    "        flag=False\n",
    "        # Convert the current rotation combination to integer\n",
    "        num=int(r)\n",
    "        # Only conduct inspection when the number is greater than 1\n",
    "        if num > 1:\n",
    "            # Iterate all the integers between two and the number\n",
    "            for i in range(2, num):\n",
    "                # Check if the number is divisible by the integer of the current interation\n",
    "                if (num % i) == 0:\n",
    "                    # Break the loop and flag it as True when the number is divisible by the integer of the current iteration\n",
    "                    flag=True\n",
    "                    break\n",
    "        else:\n",
    "            # Flag it as True when the number is equal to 1, which is not a prime number\n",
    "            flag=True\n",
    "        # Add 1 to the total number of prime numbers when the flag is False\n",
    "        if not flag: \n",
    "            prime+=1\n",
    "    # Return True if the total length of rotation combinations is equal to the number of total prime numbers \n",
    "    if prime==len(rotation(n)):\n",
    "        return True\n",
    "    else:\n",
    "        return False\n",
    "def total_circular_prime(n):\n",
    "    \"\"\"A function that has the upper limit as input and return the number of total circular primes below the upper limit.\"\"\"\n",
    "    # Set the initial total number of circular prime as 0\n",
    "    total=0\n",
    "    # Disregard the numbers with the last digit equal to any of the values in the filter list since they are not prime)\n",
    "    filter_list=[2,4,6,8,5]\n",
    "    # Loop through all the integers up to the input number\n",
    "    for i in range(1,n,1):\n",
    "        # Only check nubers with the last digit not inside the filter list or single digit number\n",
    "        if (len(str(i))==1) or (int(str(i)[-1]) not in filter_list):\n",
    "            # Add 1 to the totatl number of circular prime if the number is circular prime\n",
    "            if circular_prime(i):\n",
    "                total+=1\n",
    "    return total"
   ]
  },
  {
   "cell_type": "code",
   "execution_count": 282,
   "metadata": {},
   "outputs": [
    {
     "data": {
      "text/plain": [
       "55"
      ]
     },
     "execution_count": 282,
     "metadata": {},
     "output_type": "execute_result"
    }
   ],
   "source": [
    "total_circular_prime(1000000)"
   ]
  },
  {
   "cell_type": "markdown",
   "metadata": {},
   "source": [
    "### Problem 75: Singular Integer Right Triangles (Solved by 17,927)"
   ]
  },
  {
   "cell_type": "code",
   "execution_count": 285,
   "metadata": {},
   "outputs": [],
   "source": [
    "from math import gcd\n",
    "def singular_integer_right_triangles(upper_limit):\n",
    "    \"\"\"A function that has the length of wire as input and return the number of unique combinations of integer sided right triangle.\"\"\"\n",
    "    # Set the number of times to check the m values\n",
    "    m_limit=int((upper_limit/2)**0.5)\n",
    "    # 0: Not able to form singular integer right triangle\n",
    "    # 1: Able to form singular integer right triangle\n",
    "    # Initialize the value to 0 for all numbers\n",
    "    count = [0]*upper_limit\n",
    "    # Loop through m starting from 2 to the m_limit\n",
    "    for m in range(2,m_limit):\n",
    "        # loop through n ranging from values smaller than m\n",
    "        for n in range(1+(m%2),m,2):\n",
    "            # Check whether the greatest common divisor of m and n is greater than 1\n",
    "            if gcd(m,n)>1:\n",
    "                continue\n",
    "            # Calculate the sum of three sides\n",
    "            total=2*(m**2)+2*m*n\n",
    "            # Break the loop of the sum exceeds the length of wire\n",
    "            if total > upper_limit:\n",
    "                break\n",
    "            # Change all the numbers that are multiples of the sides to 1 \n",
    "            for k in range(total,upper_limit,total):\n",
    "                count[k]+=1\n",
    "    # Return the total number of unique combinations of integer sided right triangle\n",
    "    return count.count(1)\n",
    "        "
   ]
  },
  {
   "cell_type": "code",
   "execution_count": 286,
   "metadata": {},
   "outputs": [
    {
     "data": {
      "text/plain": [
       "161667"
      ]
     },
     "execution_count": 286,
     "metadata": {},
     "output_type": "execute_result"
    }
   ],
   "source": [
    "singular_integer_right_triangles(1500000)"
   ]
  }
 ],
 "metadata": {
  "kernelspec": {
   "display_name": "Python 3",
   "language": "python",
   "name": "python3"
  },
  "language_info": {
   "codemirror_mode": {
    "name": "ipython",
    "version": 3
   },
   "file_extension": ".py",
   "mimetype": "text/x-python",
   "name": "python",
   "nbconvert_exporter": "python",
   "pygments_lexer": "ipython3",
   "version": "3.7.8"
  }
 },
 "nbformat": 4,
 "nbformat_minor": 4
}
